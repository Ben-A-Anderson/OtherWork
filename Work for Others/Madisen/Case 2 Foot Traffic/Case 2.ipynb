{
 "cells": [
  {
   "cell_type": "code",
   "execution_count": 1,
   "metadata": {},
   "outputs": [],
   "source": [
    "import pandas as pd"
   ]
  },
  {
   "cell_type": "code",
   "execution_count": 23,
   "metadata": {},
   "outputs": [
    {
     "data": {
      "text/html": [
       "<div>\n",
       "<style scoped>\n",
       "    .dataframe tbody tr th:only-of-type {\n",
       "        vertical-align: middle;\n",
       "    }\n",
       "\n",
       "    .dataframe tbody tr th {\n",
       "        vertical-align: top;\n",
       "    }\n",
       "\n",
       "    .dataframe thead th {\n",
       "        text-align: right;\n",
       "    }\n",
       "</style>\n",
       "<table border=\"1\" class=\"dataframe\">\n",
       "  <thead>\n",
       "    <tr style=\"text-align: right;\">\n",
       "      <th></th>\n",
       "      <th>cik</th>\n",
       "      <th>revtq</th>\n",
       "      <th>atq</th>\n",
       "      <th>ltq</th>\n",
       "      <th>niq</th>\n",
       "      <th>derhedglq</th>\n",
       "      <th>ppegtq</th>\n",
       "      <th>fqtr</th>\n",
       "      <th>fyearq</th>\n",
       "      <th>fyr</th>\n",
       "      <th>datacqtr</th>\n",
       "      <th>conm</th>\n",
       "      <th>datadate</th>\n",
       "    </tr>\n",
       "  </thead>\n",
       "  <tbody>\n",
       "    <tr>\n",
       "      <th>0</th>\n",
       "      <td>29534.0</td>\n",
       "      <td>997.079</td>\n",
       "      <td>1518.270</td>\n",
       "      <td>610.764</td>\n",
       "      <td>29.335</td>\n",
       "      <td>NaN</td>\n",
       "      <td>641.158</td>\n",
       "      <td>1.0</td>\n",
       "      <td>2000.0</td>\n",
       "      <td>1.0</td>\n",
       "      <td>2000Q1</td>\n",
       "      <td>DOLLAR GENERAL CORP</td>\n",
       "      <td>2000-04-30</td>\n",
       "    </tr>\n",
       "    <tr>\n",
       "      <th>1</th>\n",
       "      <td>29534.0</td>\n",
       "      <td>1017.418</td>\n",
       "      <td>1626.962</td>\n",
       "      <td>680.603</td>\n",
       "      <td>27.786</td>\n",
       "      <td>NaN</td>\n",
       "      <td>736.444</td>\n",
       "      <td>2.0</td>\n",
       "      <td>2000.0</td>\n",
       "      <td>1.0</td>\n",
       "      <td>2000Q2</td>\n",
       "      <td>DOLLAR GENERAL CORP</td>\n",
       "      <td>2000-07-31</td>\n",
       "    </tr>\n",
       "    <tr>\n",
       "      <th>2</th>\n",
       "      <td>29534.0</td>\n",
       "      <td>1094.360</td>\n",
       "      <td>1768.009</td>\n",
       "      <td>762.620</td>\n",
       "      <td>45.676</td>\n",
       "      <td>NaN</td>\n",
       "      <td>801.837</td>\n",
       "      <td>3.0</td>\n",
       "      <td>2000.0</td>\n",
       "      <td>1.0</td>\n",
       "      <td>2000Q3</td>\n",
       "      <td>DOLLAR GENERAL CORP</td>\n",
       "      <td>2000-10-31</td>\n",
       "    </tr>\n",
       "    <tr>\n",
       "      <th>3</th>\n",
       "      <td>29534.0</td>\n",
       "      <td>1441.714</td>\n",
       "      <td>2282.462</td>\n",
       "      <td>1420.699</td>\n",
       "      <td>-32.155</td>\n",
       "      <td>NaN</td>\n",
       "      <td>1339.554</td>\n",
       "      <td>4.0</td>\n",
       "      <td>2000.0</td>\n",
       "      <td>1.0</td>\n",
       "      <td>2000Q4</td>\n",
       "      <td>DOLLAR GENERAL CORP</td>\n",
       "      <td>2001-01-31</td>\n",
       "    </tr>\n",
       "    <tr>\n",
       "      <th>4</th>\n",
       "      <td>935703.0</td>\n",
       "      <td>327.111</td>\n",
       "      <td>562.435</td>\n",
       "      <td>180.129</td>\n",
       "      <td>13.952</td>\n",
       "      <td>NaN</td>\n",
       "      <td>235.185</td>\n",
       "      <td>1.0</td>\n",
       "      <td>2000.0</td>\n",
       "      <td>12.0</td>\n",
       "      <td>2000Q1</td>\n",
       "      <td>DOLLAR TREE INC</td>\n",
       "      <td>2000-03-31</td>\n",
       "    </tr>\n",
       "    <tr>\n",
       "      <th>...</th>\n",
       "      <td>...</td>\n",
       "      <td>...</td>\n",
       "      <td>...</td>\n",
       "      <td>...</td>\n",
       "      <td>...</td>\n",
       "      <td>...</td>\n",
       "      <td>...</td>\n",
       "      <td>...</td>\n",
       "      <td>...</td>\n",
       "      <td>...</td>\n",
       "      <td>...</td>\n",
       "      <td>...</td>\n",
       "      <td>...</td>\n",
       "    </tr>\n",
       "    <tr>\n",
       "      <th>175</th>\n",
       "      <td>935703.0</td>\n",
       "      <td>7080.600</td>\n",
       "      <td>21721.800</td>\n",
       "      <td>14003.300</td>\n",
       "      <td>454.200</td>\n",
       "      <td>NaN</td>\n",
       "      <td>16266.400</td>\n",
       "      <td>4.0</td>\n",
       "      <td>2021.0</td>\n",
       "      <td>1.0</td>\n",
       "      <td>2021Q4</td>\n",
       "      <td>DOLLAR TREE INC</td>\n",
       "      <td>2022-01-31</td>\n",
       "    </tr>\n",
       "    <tr>\n",
       "      <th>176</th>\n",
       "      <td>29534.0</td>\n",
       "      <td>8751.352</td>\n",
       "      <td>26956.308</td>\n",
       "      <td>20994.684</td>\n",
       "      <td>552.657</td>\n",
       "      <td>NaN</td>\n",
       "      <td>NaN</td>\n",
       "      <td>1.0</td>\n",
       "      <td>2022.0</td>\n",
       "      <td>1.0</td>\n",
       "      <td>2022Q1</td>\n",
       "      <td>DOLLAR GENERAL CORP</td>\n",
       "      <td>2022-04-30</td>\n",
       "    </tr>\n",
       "    <tr>\n",
       "      <th>177</th>\n",
       "      <td>29534.0</td>\n",
       "      <td>9425.713</td>\n",
       "      <td>28239.256</td>\n",
       "      <td>22050.765</td>\n",
       "      <td>678.030</td>\n",
       "      <td>NaN</td>\n",
       "      <td>NaN</td>\n",
       "      <td>2.0</td>\n",
       "      <td>2022.0</td>\n",
       "      <td>1.0</td>\n",
       "      <td>2022Q2</td>\n",
       "      <td>DOLLAR GENERAL CORP</td>\n",
       "      <td>2022-07-31</td>\n",
       "    </tr>\n",
       "    <tr>\n",
       "      <th>178</th>\n",
       "      <td>935703.0</td>\n",
       "      <td>6902.600</td>\n",
       "      <td>22372.300</td>\n",
       "      <td>14130.800</td>\n",
       "      <td>536.400</td>\n",
       "      <td>NaN</td>\n",
       "      <td>16404.800</td>\n",
       "      <td>1.0</td>\n",
       "      <td>2022.0</td>\n",
       "      <td>1.0</td>\n",
       "      <td>2022Q1</td>\n",
       "      <td>DOLLAR TREE INC</td>\n",
       "      <td>2022-04-30</td>\n",
       "    </tr>\n",
       "    <tr>\n",
       "      <th>179</th>\n",
       "      <td>935703.0</td>\n",
       "      <td>6768.500</td>\n",
       "      <td>22676.300</td>\n",
       "      <td>14279.800</td>\n",
       "      <td>359.900</td>\n",
       "      <td>NaN</td>\n",
       "      <td>16775.400</td>\n",
       "      <td>2.0</td>\n",
       "      <td>2022.0</td>\n",
       "      <td>1.0</td>\n",
       "      <td>2022Q2</td>\n",
       "      <td>DOLLAR TREE INC</td>\n",
       "      <td>2022-07-31</td>\n",
       "    </tr>\n",
       "  </tbody>\n",
       "</table>\n",
       "<p>180 rows × 13 columns</p>\n",
       "</div>"
      ],
      "text/plain": [
       "          cik     revtq        atq        ltq      niq  derhedglq     ppegtq  \\\n",
       "0     29534.0   997.079   1518.270    610.764   29.335        NaN    641.158   \n",
       "1     29534.0  1017.418   1626.962    680.603   27.786        NaN    736.444   \n",
       "2     29534.0  1094.360   1768.009    762.620   45.676        NaN    801.837   \n",
       "3     29534.0  1441.714   2282.462   1420.699  -32.155        NaN   1339.554   \n",
       "4    935703.0   327.111    562.435    180.129   13.952        NaN    235.185   \n",
       "..        ...       ...        ...        ...      ...        ...        ...   \n",
       "175  935703.0  7080.600  21721.800  14003.300  454.200        NaN  16266.400   \n",
       "176   29534.0  8751.352  26956.308  20994.684  552.657        NaN        NaN   \n",
       "177   29534.0  9425.713  28239.256  22050.765  678.030        NaN        NaN   \n",
       "178  935703.0  6902.600  22372.300  14130.800  536.400        NaN  16404.800   \n",
       "179  935703.0  6768.500  22676.300  14279.800  359.900        NaN  16775.400   \n",
       "\n",
       "     fqtr  fyearq   fyr datacqtr                 conm    datadate  \n",
       "0     1.0  2000.0   1.0   2000Q1  DOLLAR GENERAL CORP  2000-04-30  \n",
       "1     2.0  2000.0   1.0   2000Q2  DOLLAR GENERAL CORP  2000-07-31  \n",
       "2     3.0  2000.0   1.0   2000Q3  DOLLAR GENERAL CORP  2000-10-31  \n",
       "3     4.0  2000.0   1.0   2000Q4  DOLLAR GENERAL CORP  2001-01-31  \n",
       "4     1.0  2000.0  12.0   2000Q1      DOLLAR TREE INC  2000-03-31  \n",
       "..    ...     ...   ...      ...                  ...         ...  \n",
       "175   4.0  2021.0   1.0   2021Q4      DOLLAR TREE INC  2022-01-31  \n",
       "176   1.0  2022.0   1.0   2022Q1  DOLLAR GENERAL CORP  2022-04-30  \n",
       "177   2.0  2022.0   1.0   2022Q2  DOLLAR GENERAL CORP  2022-07-31  \n",
       "178   1.0  2022.0   1.0   2022Q1      DOLLAR TREE INC  2022-04-30  \n",
       "179   2.0  2022.0   1.0   2022Q2      DOLLAR TREE INC  2022-07-31  \n",
       "\n",
       "[180 rows x 13 columns]"
      ]
     },
     "execution_count": 23,
     "metadata": {},
     "output_type": "execute_result"
    }
   ],
   "source": [
    "df = pd.read_csv('Copy of dt_dg_qf_data.csv')\n",
    "df"
   ]
  },
  {
   "cell_type": "code",
   "execution_count": 11,
   "metadata": {},
   "outputs": [
    {
     "name": "stdout",
     "output_type": "stream",
     "text": [
      "<class 'pandas.core.frame.DataFrame'>\n",
      "RangeIndex: 180 entries, 0 to 179\n",
      "Data columns (total 13 columns):\n",
      " #   Column     Non-Null Count  Dtype  \n",
      "---  ------     --------------  -----  \n",
      " 0   cik        180 non-null    float64\n",
      " 1   revtq      180 non-null    float64\n",
      " 2   atq        179 non-null    float64\n",
      " 3   ltq        179 non-null    float64\n",
      " 4   niq        180 non-null    float64\n",
      " 5   derhedglq  5 non-null      float64\n",
      " 6   ppegtq     89 non-null     float64\n",
      " 7   fqtr       180 non-null    float64\n",
      " 8   fyearq     180 non-null    float64\n",
      " 9   fyr        180 non-null    float64\n",
      " 10  datacqtr   180 non-null    object \n",
      " 11  conm       180 non-null    object \n",
      " 12  datadate   180 non-null    object \n",
      "dtypes: float64(10), object(3)\n",
      "memory usage: 18.4+ KB\n"
     ]
    }
   ],
   "source": [
    "df.info()"
   ]
  },
  {
   "cell_type": "code",
   "execution_count": 12,
   "metadata": {},
   "outputs": [
    {
     "data": {
      "text/html": [
       "<div>\n",
       "<style scoped>\n",
       "    .dataframe tbody tr th:only-of-type {\n",
       "        vertical-align: middle;\n",
       "    }\n",
       "\n",
       "    .dataframe tbody tr th {\n",
       "        vertical-align: top;\n",
       "    }\n",
       "\n",
       "    .dataframe thead th {\n",
       "        text-align: right;\n",
       "    }\n",
       "</style>\n",
       "<table border=\"1\" class=\"dataframe\">\n",
       "  <thead>\n",
       "    <tr style=\"text-align: right;\">\n",
       "      <th></th>\n",
       "      <th>cik</th>\n",
       "      <th>revtq</th>\n",
       "      <th>atq</th>\n",
       "      <th>ltq</th>\n",
       "      <th>niq</th>\n",
       "      <th>derhedglq</th>\n",
       "      <th>ppegtq</th>\n",
       "      <th>fqtr</th>\n",
       "      <th>fyearq</th>\n",
       "      <th>fyr</th>\n",
       "    </tr>\n",
       "  </thead>\n",
       "  <tbody>\n",
       "    <tr>\n",
       "      <th>count</th>\n",
       "      <td>180.000000</td>\n",
       "      <td>180.000000</td>\n",
       "      <td>179.000000</td>\n",
       "      <td>179.000000</td>\n",
       "      <td>180.000000</td>\n",
       "      <td>5.0</td>\n",
       "      <td>89.000000</td>\n",
       "      <td>180.000000</td>\n",
       "      <td>180.000000</td>\n",
       "      <td>180.000000</td>\n",
       "    </tr>\n",
       "    <tr>\n",
       "      <th>mean</th>\n",
       "      <td>482618.500000</td>\n",
       "      <td>3365.538211</td>\n",
       "      <td>8723.129151</td>\n",
       "      <td>5375.173570</td>\n",
       "      <td>168.674622</td>\n",
       "      <td>0.0</td>\n",
       "      <td>5102.418910</td>\n",
       "      <td>2.477778</td>\n",
       "      <td>2010.755556</td>\n",
       "      <td>1.733333</td>\n",
       "    </tr>\n",
       "    <tr>\n",
       "      <th>std</th>\n",
       "      <td>454348.336486</td>\n",
       "      <td>2391.976937</td>\n",
       "      <td>7763.564528</td>\n",
       "      <td>5624.185317</td>\n",
       "      <td>260.469637</td>\n",
       "      <td>0.0</td>\n",
       "      <td>5318.153572</td>\n",
       "      <td>1.120931</td>\n",
       "      <td>6.516522</td>\n",
       "      <td>2.751536</td>\n",
       "    </tr>\n",
       "    <tr>\n",
       "      <th>min</th>\n",
       "      <td>29534.000000</td>\n",
       "      <td>327.111000</td>\n",
       "      <td>562.435000</td>\n",
       "      <td>180.129000</td>\n",
       "      <td>-2307.000000</td>\n",
       "      <td>0.0</td>\n",
       "      <td>235.185000</td>\n",
       "      <td>1.000000</td>\n",
       "      <td>2000.000000</td>\n",
       "      <td>1.000000</td>\n",
       "    </tr>\n",
       "    <tr>\n",
       "      <th>25%</th>\n",
       "      <td>29534.000000</td>\n",
       "      <td>1371.575000</td>\n",
       "      <td>2273.845500</td>\n",
       "      <td>887.150000</td>\n",
       "      <td>46.533250</td>\n",
       "      <td>0.0</td>\n",
       "      <td>1575.100000</td>\n",
       "      <td>1.000000</td>\n",
       "      <td>2005.000000</td>\n",
       "      <td>1.000000</td>\n",
       "    </tr>\n",
       "    <tr>\n",
       "      <th>50%</th>\n",
       "      <td>482618.500000</td>\n",
       "      <td>2439.549000</td>\n",
       "      <td>8656.431000</td>\n",
       "      <td>5013.938000</td>\n",
       "      <td>122.200000</td>\n",
       "      <td>0.0</td>\n",
       "      <td>2360.668000</td>\n",
       "      <td>2.000000</td>\n",
       "      <td>2011.000000</td>\n",
       "      <td>1.000000</td>\n",
       "    </tr>\n",
       "    <tr>\n",
       "      <th>75%</th>\n",
       "      <td>935703.000000</td>\n",
       "      <td>5331.346750</td>\n",
       "      <td>13032.485000</td>\n",
       "      <td>6775.889000</td>\n",
       "      <td>253.256500</td>\n",
       "      <td>0.0</td>\n",
       "      <td>6239.000000</td>\n",
       "      <td>3.000000</td>\n",
       "      <td>2016.000000</td>\n",
       "      <td>1.000000</td>\n",
       "    </tr>\n",
       "    <tr>\n",
       "      <th>max</th>\n",
       "      <td>935703.000000</td>\n",
       "      <td>9425.713000</td>\n",
       "      <td>28239.256000</td>\n",
       "      <td>22050.765000</td>\n",
       "      <td>1040.100000</td>\n",
       "      <td>0.0</td>\n",
       "      <td>18030.704000</td>\n",
       "      <td>4.000000</td>\n",
       "      <td>2022.000000</td>\n",
       "      <td>12.000000</td>\n",
       "    </tr>\n",
       "  </tbody>\n",
       "</table>\n",
       "</div>"
      ],
      "text/plain": [
       "                 cik        revtq           atq           ltq          niq  \\\n",
       "count     180.000000   180.000000    179.000000    179.000000   180.000000   \n",
       "mean   482618.500000  3365.538211   8723.129151   5375.173570   168.674622   \n",
       "std    454348.336486  2391.976937   7763.564528   5624.185317   260.469637   \n",
       "min     29534.000000   327.111000    562.435000    180.129000 -2307.000000   \n",
       "25%     29534.000000  1371.575000   2273.845500    887.150000    46.533250   \n",
       "50%    482618.500000  2439.549000   8656.431000   5013.938000   122.200000   \n",
       "75%    935703.000000  5331.346750  13032.485000   6775.889000   253.256500   \n",
       "max    935703.000000  9425.713000  28239.256000  22050.765000  1040.100000   \n",
       "\n",
       "       derhedglq        ppegtq        fqtr       fyearq         fyr  \n",
       "count        5.0     89.000000  180.000000   180.000000  180.000000  \n",
       "mean         0.0   5102.418910    2.477778  2010.755556    1.733333  \n",
       "std          0.0   5318.153572    1.120931     6.516522    2.751536  \n",
       "min          0.0    235.185000    1.000000  2000.000000    1.000000  \n",
       "25%          0.0   1575.100000    1.000000  2005.000000    1.000000  \n",
       "50%          0.0   2360.668000    2.000000  2011.000000    1.000000  \n",
       "75%          0.0   6239.000000    3.000000  2016.000000    1.000000  \n",
       "max          0.0  18030.704000    4.000000  2022.000000   12.000000  "
      ]
     },
     "execution_count": 12,
     "metadata": {},
     "output_type": "execute_result"
    }
   ],
   "source": [
    "df.describe()"
   ]
  },
  {
   "cell_type": "code",
   "execution_count": 10,
   "metadata": {},
   "outputs": [
    {
     "data": {
      "text/plain": [
       "array([nan,  0.])"
      ]
     },
     "execution_count": 10,
     "metadata": {},
     "output_type": "execute_result"
    }
   ],
   "source": [
    "df['derhedglq'].unique()"
   ]
  },
  {
   "cell_type": "code",
   "execution_count": 36,
   "metadata": {},
   "outputs": [],
   "source": [
    "#df.drop(columns=['derhedglq','datadate','fyearq','fyr','fqtr','cik'], inplace=True)\n",
    "\n",
    "df = df.drop(columns=['derhedglq','datadate','fyearq','fyr','fqtr','cik'])\n",
    "\n",
    "#df"
   ]
  },
  {
   "cell_type": "code",
   "execution_count": 40,
   "metadata": {},
   "outputs": [
    {
     "data": {
      "text/plain": [
       "revtq       90\n",
       "atq         89\n",
       "ltq         89\n",
       "niq         90\n",
       "ppegtq      44\n",
       "datacqtr    90\n",
       "conm        90\n",
       "dtype: int64"
      ]
     },
     "execution_count": 40,
     "metadata": {},
     "output_type": "execute_result"
    }
   ],
   "source": [
    "df.loc[df['conm'] == 'DOLLAR GENERAL CORP'].count()"
   ]
  },
  {
   "cell_type": "code",
   "execution_count": null,
   "metadata": {},
   "outputs": [],
   "source": []
  },
  {
   "cell_type": "code",
   "execution_count": 45,
   "metadata": {},
   "outputs": [],
   "source": [
    "# Exam Q2 remove_func\n",
    "\n",
    "def remove_func(text1, text2):\n",
    "    modified = text1.replace(text2,'')\n",
    "    return modified"
   ]
  },
  {
   "cell_type": "code",
   "execution_count": 46,
   "metadata": {},
   "outputs": [
    {
     "data": {
      "text/plain": [
       "'ths s a strng to test'"
      ]
     },
     "execution_count": 46,
     "metadata": {},
     "output_type": "execute_result"
    }
   ],
   "source": [
    "remove_func('this is a string to test', \"i\")"
   ]
  },
  {
   "cell_type": "code",
   "execution_count": 66,
   "metadata": {},
   "outputs": [],
   "source": [
    "# Exam Q3\n",
    "# X is a list of words, y is a string to find instances in\n",
    "\n",
    "def my_func(x, y):\n",
    "    dict = {}\n",
    "    for i in x:\n",
    "        dict[i] = y.count(i)\n",
    "\n",
    "    return dict"
   ]
  },
  {
   "cell_type": "code",
   "execution_count": 67,
   "metadata": {},
   "outputs": [
    {
     "data": {
      "text/plain": [
       "{'this': 1, 'is': 2, 'i': 4}"
      ]
     },
     "execution_count": 67,
     "metadata": {},
     "output_type": "execute_result"
    }
   ],
   "source": [
    "y = 'this is where we will search for entries'\n",
    "x = ['this', 'is', 'i']\n",
    "\n",
    "my_func(x, y)"
   ]
  },
  {
   "cell_type": "code",
   "execution_count": null,
   "metadata": {},
   "outputs": [],
   "source": []
  },
  {
   "cell_type": "code",
   "execution_count": 73,
   "metadata": {},
   "outputs": [
    {
     "name": "stdout",
     "output_type": "stream",
     "text": [
      "100\n",
      "50.0\n",
      "25.0\n",
      "12.5\n",
      "6.25\n",
      "3.125\n",
      "1.5625\n"
     ]
    }
   ],
   "source": [
    "# Q4 - 100 / 2 recurring as long as > 1\n",
    "\n",
    "x = 100\n",
    "while x > 1: \n",
    "    print(x)\n",
    "    x = x/2"
   ]
  },
  {
   "cell_type": "code",
   "execution_count": 80,
   "metadata": {},
   "outputs": [
    {
     "data": {
      "text/plain": [
       "range(3, 6)"
      ]
     },
     "execution_count": 80,
     "metadata": {},
     "output_type": "execute_result"
    }
   ],
   "source": [
    "range(3,6)"
   ]
  },
  {
   "cell_type": "code",
   "execution_count": 92,
   "metadata": {},
   "outputs": [],
   "source": [
    "# Q7 list maker\n",
    "# create list of length input integer, default 3\n",
    "\n",
    "\n",
    "def make_list(x=3):\n",
    "    output = []\n",
    "    for i in range(x, x+x):\n",
    "        #print(i)\n",
    "        output.append(i)\n",
    "    return output\n"
   ]
  },
  {
   "cell_type": "code",
   "execution_count": 94,
   "metadata": {},
   "outputs": [
    {
     "data": {
      "text/plain": [
       "[5, 6, 7, 8, 9]"
      ]
     },
     "execution_count": 94,
     "metadata": {},
     "output_type": "execute_result"
    }
   ],
   "source": [
    "make_list(5)"
   ]
  },
  {
   "cell_type": "code",
   "execution_count": 112,
   "metadata": {},
   "outputs": [
    {
     "data": {
      "text/plain": [
       "True"
      ]
     },
     "execution_count": 112,
     "metadata": {},
     "output_type": "execute_result"
    }
   ],
   "source": [
    "float(2/2).is_integer()"
   ]
  },
  {
   "cell_type": "code",
   "execution_count": 111,
   "metadata": {},
   "outputs": [
    {
     "name": "stdout",
     "output_type": "stream",
     "text": [
      "2 is Even\n",
      "cooler\n",
      "14 is Even\n",
      "before\n"
     ]
    }
   ],
   "source": [
    "# Q9 print string or even else nothing\n",
    "\n",
    "values = [1,2,'cooler',13,14,'before']\n",
    "\n",
    "for i in values:\n",
    "    if type(i) == str:\n",
    "        print(i)\n",
    "    elif float(i/2).is_integer():\n",
    "        print(i, 'is Even')\n",
    "    "
   ]
  },
  {
   "cell_type": "code",
   "execution_count": 130,
   "metadata": {},
   "outputs": [
    {
     "data": {
      "text/plain": [
       "2"
      ]
     },
     "execution_count": 130,
     "metadata": {},
     "output_type": "execute_result"
    }
   ],
   "source": [
    "\n",
    "5%3"
   ]
  },
  {
   "cell_type": "code",
   "execution_count": 138,
   "metadata": {},
   "outputs": [],
   "source": [
    "def boohoo(n=15):\n",
    "    bhlist = []\n",
    "    for i in range(1,n+1):\n",
    "\n",
    "        if i%5==0 and i%3==0:\n",
    "            #print('BooHoo',i)\n",
    "            bhlist.append('BooHoo')\n",
    "\n",
    "        elif i%3==0:\n",
    "            #print('Boo',i)\n",
    "            bhlist.append('Boo')\n",
    "\n",
    "        elif i%5==0:\n",
    "            #print('Hoo',i)\n",
    "            bhlist.append('Hoo')\n",
    "            \n",
    "    return bhlist"
   ]
  },
  {
   "cell_type": "code",
   "execution_count": 139,
   "metadata": {},
   "outputs": [
    {
     "data": {
      "text/plain": [
       "['Boo',\n",
       " 'Hoo',\n",
       " 'Boo',\n",
       " 'Boo',\n",
       " 'Hoo',\n",
       " 'Boo',\n",
       " 'BooHoo',\n",
       " 'Boo',\n",
       " 'Hoo',\n",
       " 'Boo',\n",
       " 'Boo',\n",
       " 'Hoo',\n",
       " 'Boo',\n",
       " 'BooHoo']"
      ]
     },
     "execution_count": 139,
     "metadata": {},
     "output_type": "execute_result"
    }
   ],
   "source": [
    "boohoo(30)"
   ]
  },
  {
   "cell_type": "code",
   "execution_count": 154,
   "metadata": {},
   "outputs": [
    {
     "data": {
      "text/plain": [
       "6"
      ]
     },
     "execution_count": 154,
     "metadata": {},
     "output_type": "execute_result"
    }
   ],
   "source": [
    "ab = [1,2,3]\n",
    "sum(ab)"
   ]
  },
  {
   "cell_type": "code",
   "execution_count": 156,
   "metadata": {},
   "outputs": [],
   "source": [
    "# List of lists \n",
    "\n",
    "lol = [[1,2,3],[4,5,6],[7,8,9]]\n",
    "\n",
    "def sum_of_lists(list_o_lists):\n",
    "    sums = 0\n",
    "    for i in list_o_lists:\n",
    "        for j in i:\n",
    "            #print(j)\n",
    "            sums = sums + j\n",
    "    return sums\n",
    "\n",
    "def sum_of_lists2(list_o_lists):\n",
    "    sums = 0\n",
    "    for i in list_o_lists:\n",
    "        sums=sums+sum(i)\n",
    "    return sums"
   ]
  },
  {
   "cell_type": "code",
   "execution_count": 157,
   "metadata": {},
   "outputs": [
    {
     "data": {
      "text/plain": [
       "45"
      ]
     },
     "execution_count": 157,
     "metadata": {},
     "output_type": "execute_result"
    }
   ],
   "source": [
    "sum_of_lists2(lol)"
   ]
  },
  {
   "cell_type": "code",
   "execution_count": null,
   "metadata": {},
   "outputs": [],
   "source": []
  }
 ],
 "metadata": {
  "kernelspec": {
   "display_name": "Python 3.7.15 ('py37_std')",
   "language": "python",
   "name": "python3"
  },
  "language_info": {
   "codemirror_mode": {
    "name": "ipython",
    "version": 3
   },
   "file_extension": ".py",
   "mimetype": "text/x-python",
   "name": "python",
   "nbconvert_exporter": "python",
   "pygments_lexer": "ipython3",
   "version": "3.7.15"
  },
  "orig_nbformat": 4,
  "vscode": {
   "interpreter": {
    "hash": "2f90e9d69f41bdad22533059b96a4c02c693d702d3e256ee23c7b607c4a00819"
   }
  }
 },
 "nbformat": 4,
 "nbformat_minor": 2
}
